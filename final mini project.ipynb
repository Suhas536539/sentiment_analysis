{
 "cells": [
  {
   "cell_type": "code",
   "execution_count": 1,
   "id": "600f2340-c5c3-4451-a7ab-4648aaaae6f6",
   "metadata": {},
   "outputs": [
    {
     "name": "stdout",
     "output_type": "stream",
     "text": [
      "WARNING:tensorflow:From C:\\Users\\ronak\\AppData\\Local\\Programs\\Python\\Python311\\Lib\\site-packages\\keras\\src\\losses.py:2976: The name tf.losses.sparse_softmax_cross_entropy is deprecated. Please use tf.compat.v1.losses.sparse_softmax_cross_entropy instead.\n",
      "\n"
     ]
    }
   ],
   "source": [
    "from keras.models import load_model\n",
    "from time import sleep, time\n",
    "from keras.preprocessing.image import img_to_array\n",
    "from keras.preprocessing import image\n",
    "import cv2\n",
    "import numpy as np\n",
    "import pandas as pd\n",
    "from sklearn.feature_extraction.text import TfidfVectorizer\n",
    "from sklearn.neighbors import NearestNeighbors\n",
    "from pytube import YouTube\n",
    "import webbrowser\n",
    "from nltk.sentiment import SentimentIntensityAnalyzer\n",
    "import nltk\n",
    "import random as r\n",
    "import speech_recognition as sr\n",
    "from transformers import pipeline\n"
   ]
  },
  {
   "cell_type": "code",
   "execution_count": 2,
   "id": "32bcfb75-587a-4feb-a9f9-3cbbe58a59c5",
   "metadata": {},
   "outputs": [
    {
     "name": "stderr",
     "output_type": "stream",
     "text": [
      "[nltk_data] Downloading package vader_lexicon to\n",
      "[nltk_data]     C:\\Users\\ronak\\AppData\\Roaming\\nltk_data...\n",
      "[nltk_data]   Package vader_lexicon is already up-to-date!\n",
      "C:\\Users\\ronak\\AppData\\Local\\Programs\\Python\\Python311\\Lib\\site-packages\\sklearn\\neighbors\\_base.py:564: UserWarning: cannot use tree with sparse input: using brute force\n",
      "  warnings.warn(\"cannot use tree with sparse input: using brute force\")\n"
     ]
    }
   ],
   "source": [
    "nltk.download('vader_lexicon')\n",
    "\n",
    "data = pd.read_csv('Youtube Video Dataset-Copy1.csv')\n",
    "data = data.dropna()\n",
    "data['Category'] = data['Category'].str.lower()\n",
    "\n",
    "vectorizer = TfidfVectorizer()\n",
    "video_title_vectors = vectorizer.fit_transform(data['Title'])\n",
    "\n",
    "model = NearestNeighbors(n_neighbors=5, algorithm='ball_tree')\n",
    "model.fit(video_title_vectors)\n",
    "\n",
    "def get_sentiment(text):\n",
    "    sid = SentimentIntensityAnalyzer()\n",
    "    sentiment_score = sid.polarity_scores(text)['compound']\n",
    "    \n",
    "    if sentiment_score >= 0.05:\n",
    "        return 'happy'\n",
    "    elif sentiment_score <= -0.05:\n",
    "        return 'sadness'\n",
    "    else:\n",
    "        return 'neutral'"
   ]
  },
  {
   "cell_type": "code",
   "execution_count": 3,
   "id": "59488836-10e3-42a5-80b7-21dc5275eefb",
   "metadata": {},
   "outputs": [],
   "source": [
    "def recommend_videos(category):\n",
    "    category = category.lower()\n",
    "    user_category_vector = vectorizer.transform([category])\n",
    "    distances, indices = model.kneighbors(user_category_vector)\n",
    "    recommended_videos = [data.iloc[i]['Videourl'] for i in indices[0]]\n",
    "    return recommended_videos\n",
    "\n",
    "def play_first_link(links):\n",
    "    linking=r.choice(links)\n",
    "    video_url = \"www.youtube.com\" + linking\n",
    "    yt = YouTube(video_url)\n",
    "    video_title = yt.title\n",
    "    thumbnail_url = yt.thumbnail_url\n",
    "    webbrowser.open(video_url)\n",
    "    print(\"Playing YouTube video:\")\n",
    "    print(\"Title:\", video_title)\n",
    "    print(\"Thumbnail URL:\", thumbnail_url)\n",
    "\n",
    "def play_music_based_on_sentiment(sentiment):\n",
    "    mood_to_music = {\n",
    "        \"happy\": [\"/watch?v=QLuu0QwjFJo\", \"/watch?v=_ae2j9jZY_U\", \"/watch?v=xo2wlMGfgn0\"],\n",
    "        \"joy\": [\"/watch?v=QLuu0QwjFJo\", \"/watch?v=_ae2j9jZY_U\", \"/watch?v=xo2wlMGfgn0\"],\n",
    "        \"neutral\": [\"/watch?v=oVrioWUZgfU\", \"/watch?v=2a5rxG4YlpY\", \"/watch?v=CmHfWSxt0UQ\"],\n",
    "        \"sadness\": [\"/watch?v=nVGNUIj31ks\", \"/watch?v=EVF_AuhJgLg\"]\n",
    "    }\n",
    "    if sentiment in mood_to_music:\n",
    "        video_id = r.choice(mood_to_music[sentiment])\n",
    "        play_first_link([video_id])\n",
    "    else:\n",
    "        print(\"No music found for the given sentiment.\")\n"
   ]
  },
  {
   "cell_type": "code",
   "execution_count": 4,
   "id": "909d5d53-731a-4445-b0a5-d815b920e66d",
   "metadata": {},
   "outputs": [],
   "source": [
    "def reply_message(text):\n",
    "    classifier = pipeline(\n",
    "        \"text-classification\",\n",
    "        model=\"j-hartmann/emotion-english-distilroberta-base\",\n",
    "        top_k=None,\n",
    "    )\n",
    "    data = classifier(text)\n",
    "    sentiment = data[0][0][\"label\"]\n",
    "    return sentiment\n",
    "\n",
    "\n",
    "def play(user_sentiment,user_choice):\n",
    "    # user_choice = input(\"Enter 1 for music or 2 for videos: \")\n",
    "    if user_choice == '1':\n",
    "        play_music_based_on_sentiment(user_sentiment)\n",
    "    elif user_choice == '2':\n",
    "    \n",
    "        print(\"Tell us what type of category you are interested in to watch the videos:\")\n",
    "        print(\"1. Manufacturing\\n2. History\\n3. Travel Blog\\n4. Science & Technology\\n5. Art & Music\")\n",
    "        cat = input(\"Enter the category number: \")\n",
    "        \n",
    "        \n",
    "        if cat == '1':\n",
    "            category = \"Manufacturing\"\n",
    "        elif cat == '2':\n",
    "            category = \"History\"\n",
    "        elif cat == '3':\n",
    "            category = \"Travel Blog\"\n",
    "        elif cat == '4':\n",
    "            category = \"Science & Technology\"\n",
    "        elif cat == '5':\n",
    "            category = \"Art & Music\"\n",
    "        else:\n",
    "            category = \"Art & Music\"  # Default to Art & Music if an invalid category is chosen\n",
    "        \n",
    "        recommended_videos = recommend_videos(category)\n",
    "        play_first_link(recommended_videos)\n",
    "    else:\n",
    "        print(\"Invalid choice. Please enter either 1 or 2.\")\n",
    "\n"
   ]
  },
  {
   "cell_type": "code",
   "execution_count": 5,
   "id": "9ab505db-358b-4989-9793-8a3f076c77fa",
   "metadata": {},
   "outputs": [],
   "source": [
    "def detect_emotion_and_play():\n",
    "    face_classifier = cv2.CascadeClassifier('haarcascade_frontalface_default.xml')\n",
    "    classifier = load_model('sentiment_video.h5')\n",
    "    emotion_labels = ['Angry', 'Disgust', 'Fear', 'happy', 'neutral', 'sadness', 'Surprise']\n",
    "    cap = cv2.VideoCapture(0)\n",
    "    start_time = time()\n",
    "    duration = 10  # Set the duration to 30 seconds\n",
    "    last_detected_emotion = None\n",
    "\n",
    "    while time() - start_time < duration:\n",
    "        _, frame = cap.read()\n",
    "        labels = []\n",
    "        gray = cv2.cvtColor(frame, cv2.COLOR_BGR2GRAY)\n",
    "        faces = face_classifier.detectMultiScale(gray)\n",
    "\n",
    "        for (x, y, w, h) in faces:\n",
    "            cv2.rectangle(frame, (x, y), (x+w, y+h), (0, 255, 255), 2)\n",
    "            roi_gray = gray[y:y+h, x:x+w]\n",
    "            roi_gray = cv2.resize(roi_gray, (48, 48), interpolation=cv2.INTER_AREA)\n",
    "\n",
    "            if np.sum([roi_gray]) != 0:\n",
    "                roi = roi_gray.astype('float') / 255.0\n",
    "                roi = img_to_array(roi)\n",
    "                roi = np.expand_dims(roi, axis=0)\n",
    "\n",
    "                prediction = classifier.predict(roi)[0]\n",
    "                last_detected_emotion = emotion_labels[prediction.argmax()]\n",
    "                label_position = (x, y)\n",
    "                cv2.putText(frame, last_detected_emotion, label_position, cv2.FONT_HERSHEY_SIMPLEX, 1, (0, 255, 0), 2)\n",
    "            else:\n",
    "                cv2.putText(frame, 'No Faces', (30, 80), cv2.FONT_HERSHEY_SIMPLEX, 1, (0, 255, 0), 2)\n",
    "        cv2.imshow('Emotion Detector', frame)\n",
    "        if cv2.waitKey(1) & 0xFF == ord('q'):\n",
    "            break\n",
    "\n",
    "    cap.release()\n",
    "    cv2.destroyAllWindows()\n",
    "\n",
    "    print(\"Last detected emotion:\", last_detected_emotion)\n",
    "    user_recommendation = input(\"Enter 1 for music or 2 for videos: \")\n",
    "    play(last_detected_emotion,user_recommendation)"
   ]
  },
  {
   "cell_type": "code",
   "execution_count": 6,
   "id": "84569787-7818-42f2-83c8-df54fcd7bb8b",
   "metadata": {},
   "outputs": [
    {
     "name": "stdin",
     "output_type": "stream",
     "text": [
      "How do you want to check sentiment? Enter 1 for voice, 2 for text, 3 for video:  1\n"
     ]
    },
    {
     "name": "stdout",
     "output_type": "stream",
     "text": [
      "Listening to mic...\n",
      "Done listening\n",
      "Audio content: hello\n",
      "Detected sentiment: neutral\n"
     ]
    },
    {
     "name": "stdin",
     "output_type": "stream",
     "text": [
      "Enter 1 for music or 2 for videos:  2\n"
     ]
    },
    {
     "name": "stdout",
     "output_type": "stream",
     "text": [
      "Tell us what type of category you are interested in to watch the videos:\n",
      "1. Manufacturing\n",
      "2. History\n",
      "3. Travel Blog\n",
      "4. Science & Technology\n",
      "5. Art & Music\n"
     ]
    },
    {
     "name": "stdin",
     "output_type": "stream",
     "text": [
      "Enter the category number:  5\n"
     ]
    },
    {
     "name": "stdout",
     "output_type": "stream",
     "text": [
      "Playing YouTube video:\n",
      "Title: Art and Music\n",
      "Thumbnail URL: https://lh3.googleusercontent.com/pwtTw2GYpZ_3p1-mOC42gLytAZKPzun1HptZxhgHdhJRMTGpl4glm8H_9Wg_PnQCfGKnv_DVM4EWsGM=w544-h544-l90-rj\n"
     ]
    }
   ],
   "source": [
    "user_choice = input(\"How do you want to check sentiment? Enter 1 for voice, 2 for text, 3 for video: \")\n",
    "if user_choice == '1':\n",
    "    # Voice input\n",
    "    text = \"\"\n",
    "    rs = sr.Recognizer()\n",
    "    with sr.Microphone() as microphone:\n",
    "        rs.adjust_for_ambient_noise(microphone)\n",
    "        print(\"Listening to mic...\")\n",
    "        audio = rs.listen(microphone)\n",
    "        print(\"Done listening\")\n",
    "    try:\n",
    "        text = rs.recognize_google(audio)\n",
    "        print(\"Audio content:\", text)\n",
    "        user_sentiment = reply_message(text)\n",
    "        print(\"Detected sentiment:\", user_sentiment)\n",
    "        user_recommendation = input(\"Enter 1 for music or 2 for videos: \")\n",
    "        play (user_sentiment,user_recommendation)\n",
    "    except Exception as e:\n",
    "        print(\"Error:\", str(e))\n",
    "elif user_choice == '2':\n",
    "    # Text input\n",
    "    user_input_text = input(\"Enter a sentence or text: \")\n",
    "    user_sentiment = reply_message(user_input_text)\n",
    "    print(\"Detected sentiment:\", user_sentiment)\n",
    "    user_recommendation = input(\"Enter 1 for music or 2 for videos: \")\n",
    "    play(user_sentiment,user_recommendation)\n",
    "    # play_first_link(recommended_videos)\n",
    "elif user_choice == '3':\n",
    "    # Video input\n",
    "    detect_emotion_and_play()\n",
    "else:\n",
    "    print(\"Invalid choice. Please enter 1, 2, or 3.\")\n",
    "\n"
   ]
  },
  {
   "cell_type": "code",
   "execution_count": null,
   "id": "7a2dc168-082a-4ffa-972b-f43571b54c4b",
   "metadata": {},
   "outputs": [],
   "source": []
  }
 ],
 "metadata": {
  "kernelspec": {
   "display_name": "Python 3 (ipykernel)",
   "language": "python",
   "name": "python3"
  },
  "language_info": {
   "codemirror_mode": {
    "name": "ipython",
    "version": 3
   },
   "file_extension": ".py",
   "mimetype": "text/x-python",
   "name": "python",
   "nbconvert_exporter": "python",
   "pygments_lexer": "ipython3",
   "version": "3.11.7"
  }
 },
 "nbformat": 4,
 "nbformat_minor": 5
}
